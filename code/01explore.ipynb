{
 "cells": [
  {
   "cell_type": "markdown",
   "metadata": {},
   "source": [
    "## Exploratory Data Analysis I\n",
    "\n",
    "Let's begin our analysis by exploring both the univariate and bivariate characteristics of this dataset. The general goals of this step include: \n",
    "\n",
    "* finding outliers & distributions through univariate visualizations\n",
    "* finding trends & patterns through bivariate visualizations\n",
    "\n",
    "When you are done with this section of the project, validate that your output matches the screenshot provided in the `docs/part1.md` file and answer the questions located underneath `Exploratory Data Analysis II` in your own words."
   ]
  },
  {
   "cell_type": "code",
   "execution_count": null,
   "metadata": {},
   "outputs": [],
   "source": [
    "import pandas as pd\n",
    "\n",
    "import matplotlib.pyplot as plt\n",
    "import seaborn as sns"
   ]
  },
  {
   "cell_type": "code",
   "execution_count": null,
   "metadata": {},
   "outputs": [],
   "source": [
    "# TODO: load `data/raw/shopping.csv` as a pandas dataframe\n",
    "# Documentation: https://pandas.pydata.org/docs/reference/api/pandas.read_csv.html\n",
    "\n",
    "..."
   ]
  },
  {
   "cell_type": "code",
   "execution_count": null,
   "metadata": {},
   "outputs": [],
   "source": [
    "# TODO: print out the first 5 rows for display\n",
    "# Documentation: https://pandas.pydata.org/docs/reference/api/pandas.DataFrame.head.html\n",
    "\n",
    "..."
   ]
  },
  {
   "cell_type": "code",
   "execution_count": null,
   "metadata": {},
   "outputs": [],
   "source": [
    "# TODO: Print out summary statistics for all numeric columns\n",
    "# Documentation: https://pandas.pydata.org/docs/reference/api/pandas.DataFrame.describe.html\n",
    "\n",
    "..."
   ]
  },
  {
   "cell_type": "markdown",
   "metadata": {},
   "source": [
    "## Univariate Analysis\n",
    "\n",
    "Let's generate visualizatons for each numeric variable to get an idea of the outliers & distributions present in our dataset.\n",
    "\n",
    "In addition, let's also visualize the frequency-count of qualitative variables to get an understanding of the composition of our dataset. "
   ]
  },
  {
   "cell_type": "code",
   "execution_count": null,
   "metadata": {},
   "outputs": [],
   "source": [
    "# TODO: plot a seaborn histogram for the \"Age\" column\n",
    "# Documentation: https://seaborn.pydata.org/generated/seaborn.histplot.html\n",
    "\n",
    "..."
   ]
  },
  {
   "cell_type": "code",
   "execution_count": null,
   "metadata": {},
   "outputs": [],
   "source": [
    "# TODO: plot a seaborn histogram for the \"Purchase Amount (USD)\" column\n",
    "\n",
    "..."
   ]
  },
  {
   "cell_type": "code",
   "execution_count": null,
   "metadata": {},
   "outputs": [],
   "source": [
    "# TODO: plot a seaborn histogram for the \"Review Rating\" column\n",
    "\n",
    "..."
   ]
  },
  {
   "cell_type": "code",
   "execution_count": null,
   "metadata": {},
   "outputs": [],
   "source": [
    "# TODO: plot a seaborn histogram for the \"Previous Purchases\" column\n",
    "\n",
    "..."
   ]
  },
  {
   "cell_type": "code",
   "execution_count": null,
   "metadata": {},
   "outputs": [],
   "source": [
    "# TODO: count the frequency of unique values in the \"Gender\" column, save this value into a new dataframe named \"gender_counts\"\n",
    "# Documentation: https://pandas.pydata.org/docs/reference/api/pandas.DataFrame.value_counts.html\n",
    "\n",
    "..."
   ]
  },
  {
   "cell_type": "code",
   "execution_count": null,
   "metadata": {},
   "outputs": [],
   "source": [
    "# TODO: plot a matplotlib barplot for the gender_counts dataframe\n",
    "# Documentation: https://pandas.pydata.org/docs/reference/api/pandas.DataFrame.plot.bar.html\n",
    "\n",
    "..."
   ]
  },
  {
   "cell_type": "code",
   "execution_count": null,
   "metadata": {},
   "outputs": [],
   "source": [
    "# TODO: count the frequency of unique values in the \"Season\" column, save this value into a new dataframe named \"season_counts\"\n",
    "\n",
    "..."
   ]
  },
  {
   "cell_type": "code",
   "execution_count": null,
   "metadata": {},
   "outputs": [],
   "source": [
    "# TODO: plot a matplotlib barplot for the season_counts dataframe\n",
    "\n",
    "..."
   ]
  },
  {
   "cell_type": "code",
   "execution_count": null,
   "metadata": {},
   "outputs": [],
   "source": [
    "# TODO: count the frequency of unique values in the \"Shipping Type\" column, save this value into a new dataframe named \"ship_counts\"\n",
    "\n",
    "..."
   ]
  },
  {
   "cell_type": "code",
   "execution_count": null,
   "metadata": {},
   "outputs": [],
   "source": [
    "# TODO: plot a matplotlib barplot for the shipping_counts dataframe\n",
    "\n",
    "..."
   ]
  },
  {
   "cell_type": "code",
   "execution_count": null,
   "metadata": {},
   "outputs": [],
   "source": [
    "# TODO: count the frequency of unique values in the \"Promo Code Used\" column, save this value into a new dataframe named \"promo_counts\"\n",
    "\n",
    "..."
   ]
  },
  {
   "cell_type": "code",
   "execution_count": null,
   "metadata": {},
   "outputs": [],
   "source": [
    "# TODO: plot a matplotlib barplot for the promo_counts dataframe\n",
    "\n",
    "..."
   ]
  },
  {
   "cell_type": "code",
   "execution_count": null,
   "metadata": {},
   "outputs": [],
   "source": [
    "# TODO: count the frequency of unique values in the \"Payment Method\" column, save this value into a new dataframe named \"pay_counts\"\n",
    "\n",
    "..."
   ]
  },
  {
   "cell_type": "code",
   "execution_count": null,
   "metadata": {},
   "outputs": [],
   "source": [
    "# TODO: plot a matplotlib barplot for the pay_counts dataframe\n",
    "\n",
    "..."
   ]
  },
  {
   "cell_type": "code",
   "execution_count": null,
   "metadata": {},
   "outputs": [],
   "source": [
    "# TODO: count the frequency of unique values in the \"Frequency of Purchases\" column, save this value into a new dataframe named \"purch_counts\"\n",
    "\n",
    "..."
   ]
  },
  {
   "cell_type": "code",
   "execution_count": null,
   "metadata": {},
   "outputs": [],
   "source": [
    "# TODO: plot a matplotlib barplot for the purch_counts dataframe\n",
    "\n",
    "..."
   ]
  },
  {
   "cell_type": "code",
   "execution_count": null,
   "metadata": {},
   "outputs": [],
   "source": [
    "# TODO: count the frequency of unique values in the \"Location\" column, save this value into a new dataframe named \"loc_counts\"\n",
    "\n",
    "..."
   ]
  },
  {
   "cell_type": "code",
   "execution_count": null,
   "metadata": {},
   "outputs": [],
   "source": [
    "# TODO: plot a horizontal barplot for the loc_counts dataframe\n",
    "# Documentation: https://pandas.pydata.org/docs/reference/api/pandas.DataFrame.plot.barh.html\n",
    "# Hint: resize the figure using \"plt.figure(figsize=(10,10))\" to \"unsquish\" your visualization\n",
    "\n",
    "..."
   ]
  },
  {
   "cell_type": "markdown",
   "metadata": {},
   "source": [
    "## Bivariate Analysis\n",
    "\n",
    "Let's generate visualizatons for relationships between multiple numeric variables to get an idea of patterns and clusters that might be present in our dataset."
   ]
  },
  {
   "cell_type": "code",
   "execution_count": null,
   "metadata": {},
   "outputs": [],
   "source": [
    "# TODO: Create a boxplot that reveals the range of \"Purchase Amount (USD)\" for each \"Gender\" \n",
    "# Documentation: https://seaborn.pydata.org/generated/seaborn.boxplot.html\n",
    "\n",
    "..."
   ]
  },
  {
   "cell_type": "code",
   "execution_count": null,
   "metadata": {},
   "outputs": [],
   "source": [
    "# TODO: Create a boxplot that reveals the range of \"Purchase Amount (USD)\" for each \"Season\" \n",
    "# Documentation: https://seaborn.pydata.org/generated/seaborn.boxplot.html\n",
    "\n",
    "..."
   ]
  },
  {
   "cell_type": "code",
   "execution_count": null,
   "metadata": {},
   "outputs": [],
   "source": [
    "# TODO: Create a boxplot that reveals the range of \"Purchase Amount (USD)\" for each \"Review Rating\" \n",
    "# Documentation: https://seaborn.pydata.org/generated/seaborn.boxplot.html\n",
    "\n",
    "..."
   ]
  },
  {
   "cell_type": "code",
   "execution_count": null,
   "metadata": {},
   "outputs": [],
   "source": [
    "# TODO: Create a boxplot that reveals the range of \"Purchase Amount (USD)\" for each \"Promo Code Used\" \n",
    "# Documentation: https://seaborn.pydata.org/generated/seaborn.boxplot.html\n",
    "\n",
    "..."
   ]
  },
  {
   "cell_type": "code",
   "execution_count": null,
   "metadata": {},
   "outputs": [],
   "source": [
    "# TODO: Create a boxplot that reveals the range of \"Payment Method\" for each \"Purchase Amount (USD)\"\n",
    "# Documentation: https://seaborn.pydata.org/generated/seaborn.boxplot.html\n",
    "\n",
    "..."
   ]
  },
  {
   "cell_type": "code",
   "execution_count": null,
   "metadata": {},
   "outputs": [],
   "source": [
    "# TODO: plot a grid of diagrams on all numeric columns where the upper-half of the grid are scatter-plots\n",
    "# the bottom-half are kde-plots\n",
    "# and the diagonal is a histplot\n",
    "# Documentation: https://seaborn.pydata.org/tutorial/axis_grids.html\n",
    "# Hint: This might take a few seconds to load\n",
    "# Hint: to read the kde diagrams in the bottom-half check out https://www.greenbelly.co/pages/contour-lines\n",
    "\n",
    "..."
   ]
  },
  {
   "cell_type": "markdown",
   "metadata": {},
   "source": [
    "## Exploratory Data Analysis II\n",
    "\n",
    "In the next section, answer a few questions regarding your dataset using the visualizations you've generated."
   ]
  },
  {
   "cell_type": "markdown",
   "metadata": {},
   "source": [
    "### Q1\n",
    "\n",
    "Which state contains the most amount of shoppers? Which state contains the least?"
   ]
  },
  {
   "cell_type": "markdown",
   "metadata": {},
   "source": [
    "Answer here"
   ]
  },
  {
   "cell_type": "markdown",
   "metadata": {},
   "source": [
    "### Q2\n",
    "\n",
    "Which season has the largest amount of purchases?"
   ]
  },
  {
   "cell_type": "markdown",
   "metadata": {},
   "source": [
    "Answer here"
   ]
  },
  {
   "cell_type": "markdown",
   "metadata": {},
   "source": [
    "### Q3\n",
    "\n",
    "What is the most popular form of payment for our customers in the US? What is the least popular form of payment?"
   ]
  },
  {
   "cell_type": "markdown",
   "metadata": {},
   "source": [
    "Answer here"
   ]
  },
  {
   "cell_type": "markdown",
   "metadata": {},
   "source": [
    "### Q4\n",
    "\n",
    "What is the most popular form of shipping for our customers in the US? What is the least popular form of shipping?"
   ]
  },
  {
   "cell_type": "markdown",
   "metadata": {},
   "source": [
    "Answer here"
   ]
  },
  {
   "cell_type": "markdown",
   "metadata": {},
   "source": [
    "### Q5\n",
    "\n",
    "What kind of distribution do we observe for our `Age` column? What does this tell us about the typical shopper in the US?"
   ]
  },
  {
   "cell_type": "markdown",
   "metadata": {},
   "source": [
    "Answer here"
   ]
  },
  {
   "cell_type": "markdown",
   "metadata": {},
   "source": [
    "### Q6\n",
    "\n",
    "What kind of distribution do we observe for our `Purchase Amount (USD)` column? Why might this be? Take a look at the boxplots that you've generated to help answer this question."
   ]
  },
  {
   "cell_type": "markdown",
   "metadata": {},
   "source": [
    "Answer here"
   ]
  }
 ],
 "metadata": {
  "kernelspec": {
   "display_name": "phase1",
   "language": "python",
   "name": "python3"
  },
  "language_info": {
   "codemirror_mode": {
    "name": "ipython",
    "version": 3
   },
   "file_extension": ".py",
   "mimetype": "text/x-python",
   "name": "python",
   "nbconvert_exporter": "python",
   "pygments_lexer": "ipython3",
   "version": "3.9.18"
  }
 },
 "nbformat": 4,
 "nbformat_minor": 2
}
